{
 "cells": [
  {
   "cell_type": "markdown",
   "metadata": {},
   "source": [
    "### CRR (Binomial tree) model for Option pricing "
   ]
  },
  {
   "cell_type": "code",
   "execution_count": 7,
   "metadata": {},
   "outputs": [
    {
     "name": "stdout",
     "output_type": "stream",
     "text": [
      "Enter the initial asset price: 100\n",
      "Enter the maturity time: 1\n",
      "Enter the risk-free interest rate: .03\n",
      "Enter the volatility: .15\n",
      "Enter the strike price: 100\n",
      "Enter the number of timesteps/nodes(max is 100): 3\n",
      "Choose the type of option - call or put? (C/P): c\n",
      "\n",
      "\n",
      "Stock price at each node : \n",
      "[[100.           0.           0.           0.        ]\n",
      " [109.04631785  91.70415102   0.           0.        ]\n",
      " [118.91099436 100.          84.09651314   0.        ]\n",
      " [129.66806087 109.04631785  91.70415102  77.11999341]]\n",
      "\n",
      "\n",
      "Option price at each node: \n",
      "[[ 7.95399324  0.          0.          0.        ]\n",
      " [12.77477034  2.55050383  0.          0.        ]\n",
      " [19.90601099  4.80340174  0.          0.        ]\n",
      " [29.66806087  9.04631785  0.          0.        ]]\n",
      "\n",
      "\n",
      "Call option price using CRR is 7.95399323694688\n"
     ]
    }
   ],
   "source": [
    "#Loading required package\n",
    "import numpy as np\n",
    "\n",
    "#Getting parameters from user\n",
    "S0 = float(input(\"Enter the initial asset price: \"))\n",
    "T = int(input(\"Enter the maturity time: \"))\n",
    "r = float(input(\"Enter the risk-free interest rate: \"))\n",
    "v = float(input(\"Enter the volatility: \"))\n",
    "K = float(input(\"Enter the strike price: \"))\n",
    "n = int(input(\"Enter the number of timesteps/nodes(max is 100): \"))    \n",
    "\n",
    "# Getting the type of option - call or put option\n",
    "option = input(\"Choose the type of option - call or put? (C/P): \").upper()\n",
    "\n",
    "#Check if the correct choice of option is entered\n",
    "choice = True\n",
    "while choice:\n",
    "    if option == 'C' or option == 'P':\n",
    "        choice = False\n",
    "        break\n",
    "    else:\n",
    "        print(\"Please choose either 'C' for call or 'P' for put!\")\n",
    "        option = input(\"Choose the type of option - call or put? (C/P): \").upper()\n",
    "\n",
    "#Parameter calculations\n",
    "dt = T/n                     #Delta t\n",
    "u = np.exp(v * np.sqrt(dt))  #Up factor\n",
    "d = 1/u                      #Down factor\n",
    "p = (np.exp(r*dt)-d) / (u-d) #Probability factor\n",
    "df = np.exp(-r*dt)           #Discount factor\n",
    "\n",
    "#Calculating stock price at various nodes\n",
    "stock_value = np.zeros((n+1,n+1))\n",
    "stock_value[0,0] = S0\n",
    "\n",
    "for i in range(1,n+1):\n",
    "    stock_value[i,0] = stock_value[i-1,0]*u\n",
    "    for j in range(1,i+1):\n",
    "        stock_value[i,j] = stock_value[i-1,j-1]*d\n",
    "\n",
    "print('\\n')\n",
    "print(\"Stock price at each node : \")\n",
    "print(stock_value)\n",
    "\n",
    "#Calculating option value at final nodes\n",
    "option_value = np.zeros((n+1,n+1))\n",
    "for j in range(n+1):\n",
    "    if option == 'C':\n",
    "        name = 'Call'\n",
    "        option_value[n,j] = max(0, stock_value[n,j]-K)\n",
    "    elif option == 'P':\n",
    "        name =\"Put\"\n",
    "        option_value[n,j] = max(0, K-stock_value[n,j])\n",
    "\n",
    "#Backward calculation of option price at different nodes\n",
    "for i in range(n-1,-1,-1):\n",
    "    for j in range(i+1):\n",
    "        if option == 'C':\n",
    "            option_value[i,j] = df*(p*option_value[i+1,j]+(1-p)*option_value[i+1,j+1])\n",
    "        elif option == 'P':\n",
    "            option_value[i,j] = df*(p*option_value[i+1,j]+(1-p)*option_value[i+1,j+1])\n",
    "            \n",
    "print('\\n')\n",
    "print(\"Option price at each node: \")\n",
    "print(option_value)\n",
    "print('\\n')\n",
    "\n",
    "print(\"{} option price using CRR is {}\".format(name,option_value[0,0]))"
   ]
  },
  {
   "cell_type": "markdown",
   "metadata": {},
   "source": [
    "***********************************************************************\n",
    "##### Result for PUT option using the same parameters\n",
    "\n",
    "Enter the initial asset price: 100\n",
    "\n",
    "Enter the maturity time: 1\n",
    "\n",
    "Enter the risk-free interest rate: .03\n",
    "\n",
    "Enter the volatility: .15\n",
    "\n",
    "Enter the strike price: 100\n",
    "\n",
    "Enter the number of timesteps/nodes(max is 100): 3\n",
    "\n",
    "Choose the type of option - call or put? (C/P): p\n",
    "\n",
    "Option price at each node: \n",
    "\n",
    "[[ 4.99854659  0.          0.          0.        ]\n",
    "\n",
    " [ 1.74831982  8.86622014  0.          0.        ]\n",
    " \n",
    " [ 0.          3.80838512 14.90847024  0.        ]\n",
    " \n",
    " [ 0.          0.          8.29584898 22.88000659]]\n",
    " \n",
    " \n",
    "###### Put option price using CRR is 4.998546591797737"
   ]
  },
  {
   "cell_type": "markdown",
   "metadata": {},
   "source": [
    "### --------------------------------------------------------------------------------------------------------"
   ]
  },
  {
   "cell_type": "markdown",
   "metadata": {},
   "source": [
    "### Black Scholes option pricing model (European) - with divident"
   ]
  },
  {
   "cell_type": "code",
   "execution_count": 94,
   "metadata": {},
   "outputs": [
    {
     "name": "stdout",
     "output_type": "stream",
     "text": [
      "Enter the initial asset price: 100\n",
      "Enter the strike price: 100\n",
      "Enter the time to maturity (in years): 1\n",
      "Enter the risk-free interest rate: .03\n",
      "Enter the volatility : .15\n",
      "Enter the divident yield : .01\n",
      "\n",
      "\n",
      "Choose the type of option - call or put? (C/P): c\n",
      "\n",
      "\n",
      "Call option price using Black-Scholes is 6.892570162778874\n"
     ]
    }
   ],
   "source": [
    "#Black Scholes with divident\n",
    "import numpy as np\n",
    "import scipy.stats as ss\n",
    "\n",
    "#Getting parameters from user\n",
    "S = float(input(\"Enter the initial asset price: \"))\n",
    "K = float(input(\"Enter the strike price: \"))\n",
    "T = int(input(\"Enter the time to maturity (in years): \"))\n",
    "r = float(input(\"Enter the risk-free interest rate: \"))\n",
    "v = float(input(\"Enter the volatility : \"))        #sigma\n",
    "q = float(input(\"Enter the divident yield : \"))\n",
    "print('\\n')\n",
    "\n",
    "# Getting the type of option - call or put option\n",
    "option = input(\"Choose the type of option - call or put? (C/P): \").upper()\n",
    "print('\\n')\n",
    "\n",
    "#Black-Scholes calculation\n",
    "d1 = (np.log(S0/K) + (r - q + v**2 / 2) * T)/(v * np.sqrt(T))\n",
    "d2 = d1 - (v * np.sqrt(T))\n",
    "\n",
    "if option == 'C':\n",
    "    name = 'Call'\n",
    "    opt_price =  (S0 * np.exp(-q*T) * ss.norm.cdf(d1)) - (K * np.exp(-r * T) * ss.norm.cdf(d2))\n",
    "else:\n",
    "    name = 'Put'\n",
    "    opt_price = K * np.exp(-r * T) * ss.norm.cdf(-d2) - S0 * np.exp(-q*T) * ss.norm.cdf(-d1)\n",
    "    \n",
    "print(\"{} option price using Black-Scholes is {}\".format(name, opt_price))"
   ]
  },
  {
   "cell_type": "markdown",
   "metadata": {},
   "source": [
    "**********************************************************************\n",
    "##### Result for PUT option using the same parameters\n",
    "\n",
    "Enter the initial asset price: 100\n",
    "\n",
    "Enter the strike price: 100\n",
    "\n",
    "Enter the time to maturity (in years): 1\n",
    "\n",
    "Enter the risk-free interest rate: .03\n",
    "\n",
    "Enter the volatility : .15\n",
    "\n",
    "Choose the type of option - call or put? (C/P): p\n",
    "\n",
    "    \n",
    "###### Put option price using Black-Scholes is 4.932140142712889"
   ]
  },
  {
   "cell_type": "markdown",
   "metadata": {},
   "source": [
    "### Black Scholes option pricing model (European) - without divident"
   ]
  },
  {
   "cell_type": "code",
   "execution_count": 5,
   "metadata": {},
   "outputs": [
    {
     "name": "stdout",
     "output_type": "stream",
     "text": [
      "Enter the initial asset price: 100\n",
      "Enter the strike price: 100\n",
      "Enter the time to maturity (in years): 1\n",
      "Enter the risk-free interest rate: .03\n",
      "Enter the volatility : .15\n",
      "\n",
      "\n",
      "Choose the type of option - call or put? (C/P): c\n",
      "\n",
      "\n",
      "Call option price without divident using Black-Scholes is 7.485087593912603\n"
     ]
    }
   ],
   "source": [
    "#BS without divident yield\n",
    "import numpy as np\n",
    "import scipy.stats as ss\n",
    "\n",
    "#Getting parameters from user\n",
    "S = float(input(\"Enter the initial asset price: \"))\n",
    "K = float(input(\"Enter the strike price: \"))\n",
    "T = int(input(\"Enter the time to maturity (in years): \"))\n",
    "r = float(input(\"Enter the risk-free interest rate: \"))\n",
    "v = float(input(\"Enter the volatility : \"))        #sigma\n",
    "print('\\n')\n",
    "\n",
    "# Getting the type of option - call or put option\n",
    "option = input(\"Choose the type of option - call or put? (C/P): \").upper()\n",
    "print('\\n')\n",
    "\n",
    "#Black-Scholes calculation\n",
    "d1 = (np.log(S0/K) + (r + v**2 / 2) * T)/(v * np.sqrt(T))\n",
    "d2 = d1 - (v * np.sqrt(T))\n",
    "\n",
    "if option == 'C':\n",
    "    name = 'Call'\n",
    "    opt_price =  (S0 * ss.norm.cdf(d1)) - (K * np.exp(-r * T) * ss.norm.cdf(d2))    \n",
    "else:\n",
    "    name = 'Put'\n",
    "    opt_price = K * np.exp(-r * T) * ss.norm.cdf(-d2) - S0 * ss.norm.cdf(-d1)\n",
    "    \n",
    "print(\"{} option price without divident using Black-Scholes is {}\".format(name, opt_price))"
   ]
  },
  {
   "cell_type": "markdown",
   "metadata": {},
   "source": [
    "#### -------------------------------------------------------\n",
    "Black Scholes PUT results without divident\n",
    "\n",
    "Enter the initial asset price: 100\n",
    "\n",
    "Enter the strike price: 100\n",
    "\n",
    "Enter the time to maturity (in years): 1\n",
    "\n",
    "Enter the risk-free interest rate: .03\n",
    "\n",
    "Enter the volatility : .15\n",
    "\n",
    "Choose the type of option - call or put? (C/P): p\n",
    "\n",
    "Put option price without divident using Black-Scholes is 4.529640948763436"
   ]
  },
  {
   "cell_type": "markdown",
   "metadata": {},
   "source": [
    "### Summary"
   ]
  },
  {
   "cell_type": "markdown",
   "metadata": {},
   "source": [
    "We can see that if the parameters are the same, the call and put option price is almost the same when using the Binomial tree model \n",
    "and Black Scholes model (without divident). If the number of nodes (n values) is adjusted, both th models will give the same option pricing.\n",
    "The Black Scholes model with divident yields a lower call and put price as here the stock price is discounted by the divident yield.\n",
    "\n",
    "The binomial tree gives the flexibility to calculate the option price at various nodes, which helps to calculate the price for early exercise. \n",
    "But Black scholes is a closed form model and gives the final price. If there are many n-steps the calculation will be time consuming."
   ]
  },
  {
   "cell_type": "code",
   "execution_count": null,
   "metadata": {},
   "outputs": [],
   "source": []
  }
 ],
 "metadata": {
  "kernelspec": {
   "display_name": "Python 3",
   "language": "python",
   "name": "python3"
  },
  "language_info": {
   "codemirror_mode": {
    "name": "ipython",
    "version": 3
   },
   "file_extension": ".py",
   "mimetype": "text/x-python",
   "name": "python",
   "nbconvert_exporter": "python",
   "pygments_lexer": "ipython3",
   "version": "3.6.5"
  }
 },
 "nbformat": 4,
 "nbformat_minor": 2
}
